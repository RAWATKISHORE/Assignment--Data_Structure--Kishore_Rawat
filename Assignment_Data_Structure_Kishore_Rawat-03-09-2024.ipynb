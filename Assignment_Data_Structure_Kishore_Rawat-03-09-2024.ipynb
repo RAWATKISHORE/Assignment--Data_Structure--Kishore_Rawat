{
  "nbformat": 4,
  "nbformat_minor": 0,
  "metadata": {
    "colab": {
      "provenance": []
    },
    "kernelspec": {
      "name": "python3",
      "display_name": "Python 3"
    },
    "language_info": {
      "name": "python"
    }
  },
  "cells": [
    {
      "cell_type": "markdown",
      "source": [
        "# Assignment : Data Structure"
      ],
      "metadata": {
        "id": "Tcei5g7ABpMQ"
      }
    },
    {
      "cell_type": "markdown",
      "source": [
        "##Q1. Discuss string slicing & provide examples."
      ],
      "metadata": {
        "id": "W_11NUBABZFF"
      }
    },
    {
      "cell_type": "markdown",
      "source": [
        "##Ans. String Slicing is a technique in python that allows you to extraact a portion of a string based on specified indices. This feature is used for manupulationg & analyzing string."
      ],
      "metadata": {
        "id": "fofafsibB7DD"
      }
    },
    {
      "cell_type": "markdown",
      "source": [
        "##Examples: Let's Consider the string x= \"kishore rawat\" for you example.\n",
        "\n",
        "###1. Basic slicing:"
      ],
      "metadata": {
        "id": "u2ZqcuwiDK0E"
      }
    },
    {
      "cell_type": "code",
      "source": [
        "x = \"kishore rawat\"\n",
        "print(x[0:7])\n",
        "\n",
        "#Here x[0:7] extract the substring from index 0 up tobut not including, index 7."
      ],
      "metadata": {
        "colab": {
          "base_uri": "https://localhost:8080/"
        },
        "id": "C3GqDKl4DJpJ",
        "outputId": "0911c2cc-ce2d-4ae7-fd11-c5b2f3046a74"
      },
      "execution_count": null,
      "outputs": [
        {
          "output_type": "stream",
          "name": "stdout",
          "text": [
            "kishore\n"
          ]
        }
      ]
    },
    {
      "cell_type": "markdown",
      "source": [
        "###2. Omitting Indices:"
      ],
      "metadata": {
        "id": "udvcrSKhFEVH"
      }
    },
    {
      "cell_type": "code",
      "source": [
        "print(x[:7])\n",
        "print(x[8:])\n",
        "\n",
        "#here x[:7] extract from start to index 7.\n",
        "#here x[8:] extract from index 8 to the end of the string."
      ],
      "metadata": {
        "colab": {
          "base_uri": "https://localhost:8080/"
        },
        "id": "7HUYPHmJFAJj",
        "outputId": "9b8960ac-c901-43e3-aee2-ae8fc377754e"
      },
      "execution_count": null,
      "outputs": [
        {
          "output_type": "stream",
          "name": "stdout",
          "text": [
            "kishore\n",
            "rawat\n"
          ]
        }
      ]
    },
    {
      "cell_type": "markdown",
      "source": [
        "###3. Using Step:"
      ],
      "metadata": {
        "id": "qlyBmZRcHLwf"
      }
    },
    {
      "cell_type": "code",
      "source": [
        "print(x[::2])\n",
        "\n",
        "#here x[::2] extract every second character from the string."
      ],
      "metadata": {
        "colab": {
          "base_uri": "https://localhost:8080/"
        },
        "id": "hbNtpNtnGMrx",
        "outputId": "1e5884a9-6bc0-4292-de96-9baea6fed14d"
      },
      "execution_count": null,
      "outputs": [
        {
          "output_type": "stream",
          "name": "stdout",
          "text": [
            "ksoerwt\n"
          ]
        }
      ]
    },
    {
      "cell_type": "markdown",
      "source": [
        "###4. Negative Indices:"
      ],
      "metadata": {
        "id": "hjuoc75NHsQ_"
      }
    },
    {
      "cell_type": "code",
      "source": [
        "print(x[-5:-1])\n",
        "\n",
        "#here x[-5:-1] extract the substring from index -5 up to but not including, index -1."
      ],
      "metadata": {
        "colab": {
          "base_uri": "https://localhost:8080/"
        },
        "id": "Js2nblbJHiSw",
        "outputId": "bfe7a583-6fb3-4d53-f401-251dcb523b31"
      },
      "execution_count": null,
      "outputs": [
        {
          "output_type": "stream",
          "name": "stdout",
          "text": [
            "rawa\n"
          ]
        }
      ]
    },
    {
      "cell_type": "markdown",
      "source": [
        "###5. Reversing a String:"
      ],
      "metadata": {
        "id": "HszwyyP9IV1O"
      }
    },
    {
      "cell_type": "code",
      "source": [
        "print(x[::-1])\n",
        "\n",
        "#here x[::-1] reverse the string."
      ],
      "metadata": {
        "colab": {
          "base_uri": "https://localhost:8080/"
        },
        "id": "oQ3vwyLcIF84",
        "outputId": "12c48c73-0cc3-45fa-f111-d55e105dc980"
      },
      "execution_count": null,
      "outputs": [
        {
          "output_type": "stream",
          "name": "stdout",
          "text": [
            "tawar erohsik\n"
          ]
        }
      ]
    },
    {
      "cell_type": "markdown",
      "source": [
        "###6. Extracting a Substring with step:"
      ],
      "metadata": {
        "id": "qNYkiKVrIq3a"
      }
    },
    {
      "cell_type": "code",
      "source": [
        "print(x[1:7:2])\n",
        "\n",
        "#here x[1:7:2] extract every second character from the substring from index 1 up to but not including, index 7."
      ],
      "metadata": {
        "colab": {
          "base_uri": "https://localhost:8080/"
        },
        "id": "Wl9hPVzbIjCo",
        "outputId": "b1dd5d3a-5540-4170-9038-dc6e5836835e"
      },
      "execution_count": null,
      "outputs": [
        {
          "output_type": "stream",
          "name": "stdout",
          "text": [
            "ihr\n"
          ]
        }
      ]
    },
    {
      "cell_type": "markdown",
      "source": [
        "----------------------------------------------------------------------------------------------"
      ],
      "metadata": {
        "id": "0dMMVB6tJHsb"
      }
    },
    {
      "cell_type": "markdown",
      "source": [
        "##Q.2 Explain the key Features of Lists in Python."
      ],
      "metadata": {
        "id": "sSzD2GAfJIMf"
      }
    },
    {
      "cell_type": "markdown",
      "source": [
        "##Ans. Lists in Python are one of the most versatile & commonly used data structures. Here are some key Features of lists in Python:"
      ],
      "metadata": {
        "id": "f8VjPoqNJxzP"
      }
    },
    {
      "cell_type": "markdown",
      "source": [
        "##1. Ordered Collections: Lists maintained the order of elements as they are added. It's means that elements can be accessed by their index & the order in which elements are added is preserved.\n",
        "\n",
        "##Example:\n",
        "\n"
      ],
      "metadata": {
        "id": "lg4kGZ6MKQ56"
      }
    },
    {
      "cell_type": "code",
      "source": [
        "list = [1, 2, 3, 4, 5]\n",
        "print(list[3])"
      ],
      "metadata": {
        "colab": {
          "base_uri": "https://localhost:8080/"
        },
        "id": "fwmbmc3sI_EA",
        "outputId": "2ef665d4-e96a-4331-9193-1f555130cbb1"
      },
      "execution_count": null,
      "outputs": [
        {
          "output_type": "stream",
          "name": "stdout",
          "text": [
            "4\n"
          ]
        }
      ]
    },
    {
      "cell_type": "markdown",
      "source": [
        "##2. Mutable: Lists are mutable it's means you can change their content after creation. You can modify, add or remove elements from a list.\n",
        "\n",
        "##Example:"
      ],
      "metadata": {
        "id": "is7zhmdILaeb"
      }
    },
    {
      "cell_type": "code",
      "source": [
        "list = [1, 2, 3, 4, 5]\n",
        "list[2] = 10\n",
        "print(list)"
      ],
      "metadata": {
        "colab": {
          "base_uri": "https://localhost:8080/"
        },
        "id": "tsEGCiAULUdp",
        "outputId": "95d930f8-3fbf-4d3a-fafe-2db552120835"
      },
      "execution_count": null,
      "outputs": [
        {
          "output_type": "stream",
          "name": "stdout",
          "text": [
            "[1, 2, 10, 4, 5]\n"
          ]
        }
      ]
    },
    {
      "cell_type": "markdown",
      "source": [
        "##3. Dynamic Sizing: Lists can grow or shrink in size as needed. You can append or remove elements dynamically.\n",
        "\n",
        "\n",
        "##Example:"
      ],
      "metadata": {
        "id": "j5x3Zj-TMDn_"
      }
    },
    {
      "cell_type": "code",
      "source": [
        "list = [1, 2, 3, 4, 5]\n",
        "list.append(6)\n",
        "print(list)\n",
        "list.pop()\n",
        "print(list)"
      ],
      "metadata": {
        "colab": {
          "base_uri": "https://localhost:8080/"
        },
        "id": "DwX54xrpMAAl",
        "outputId": "8924945f-9d5d-47be-d1bf-fd2a2a343fbc"
      },
      "execution_count": null,
      "outputs": [
        {
          "output_type": "stream",
          "name": "stdout",
          "text": [
            "[1, 2, 3, 4, 5, 6]\n",
            "[1, 2, 3, 4, 5]\n"
          ]
        }
      ]
    },
    {
      "cell_type": "markdown",
      "source": [
        "##4. heterogeneous Element: Lists can contain elements of diffrent data types for Example a list have Integers, strings, flot & other lists as elements.\n",
        "\n",
        "##Example:"
      ],
      "metadata": {
        "id": "mjWf16wdM3XA"
      }
    },
    {
      "cell_type": "code",
      "source": [
        "list = [1, \"kishore\", 3.14, [4, 5, 6]]\n",
        "print(list)"
      ],
      "metadata": {
        "colab": {
          "base_uri": "https://localhost:8080/"
        },
        "id": "-UY87_xGMuy1",
        "outputId": "e14566e6-d0b4-433d-a726-0644ef8d4e02"
      },
      "execution_count": null,
      "outputs": [
        {
          "output_type": "stream",
          "name": "stdout",
          "text": [
            "[1, 'kishore', 3.14, [4, 5, 6]]\n"
          ]
        }
      ]
    },
    {
      "cell_type": "markdown",
      "source": [
        "##5. Indexed & Sliced: Lists support indexing & slicing allowing you to access & manupulate specific elements or sublistists.\n",
        "\n",
        "##Example:"
      ],
      "metadata": {
        "id": "b3pObu1xN6Dq"
      }
    },
    {
      "cell_type": "code",
      "source": [
        "list = [1, 2, 3, 4, 5]\n",
        "print(list[1:4])\n",
        "print(list[:4])"
      ],
      "metadata": {
        "colab": {
          "base_uri": "https://localhost:8080/"
        },
        "id": "H1W-PUILN3zq",
        "outputId": "e647d82c-2d12-4cd3-f67f-1b45641a0697"
      },
      "execution_count": null,
      "outputs": [
        {
          "output_type": "stream",
          "name": "stdout",
          "text": [
            "[2, 3, 4]\n",
            "[1, 2, 3, 4]\n"
          ]
        }
      ]
    },
    {
      "cell_type": "markdown",
      "source": [
        "##6. List Comprehensions: Lists can be created & manupulated using list comprehensions, which offer a consise way to generate lists.\n",
        "\n",
        "##Example:"
      ],
      "metadata": {
        "id": "ikSFpx9pO8cE"
      }
    },
    {
      "cell_type": "code",
      "source": [
        "squares = [x**2 for x in range(10)]\n",
        "print(squares)"
      ],
      "metadata": {
        "colab": {
          "base_uri": "https://localhost:8080/"
        },
        "id": "H4yotn6dO2Ea",
        "outputId": "296ab8b0-76d5-4283-a50a-c86e46f453e1"
      },
      "execution_count": null,
      "outputs": [
        {
          "output_type": "stream",
          "name": "stdout",
          "text": [
            "[0, 1, 4, 9, 16, 25, 36, 49, 64, 81]\n"
          ]
        }
      ]
    },
    {
      "cell_type": "markdown",
      "source": [
        "##7. Nested Lists: Lists can contain other lists as elements allowing for the creation of multi-dimensional arrays or metrices.\n",
        "\n",
        "##Example:"
      ],
      "metadata": {
        "id": "wqJfDO0BPvId"
      }
    },
    {
      "cell_type": "code",
      "source": [
        "metrix = [[1, 2, 3], [4, 5, 6], [7, 8, 9]]\n",
        "print(metrix[1][2])"
      ],
      "metadata": {
        "colab": {
          "base_uri": "https://localhost:8080/"
        },
        "id": "jRmTpVRkPtTq",
        "outputId": "10d419a2-187f-452b-bdb0-2c8a88bd8bb5"
      },
      "execution_count": null,
      "outputs": [
        {
          "output_type": "stream",
          "name": "stdout",
          "text": [
            "6\n"
          ]
        }
      ]
    },
    {
      "cell_type": "markdown",
      "source": [
        "--------------------------------------------------------------------------------------------"
      ],
      "metadata": {
        "id": "mpysuPPHQvor"
      }
    },
    {
      "cell_type": "markdown",
      "source": [
        "##Q.3 Describe how to access, modify & delete elements in a list with examples."
      ],
      "metadata": {
        "id": "j2v2C7eKQ3se"
      }
    },
    {
      "cell_type": "markdown",
      "source": [
        "##Ans. Accessing, modifying & Deleting elements in a list are fundamental operations in python. Here are Examples How we can perform these actions with examples:\n",
        "\n",
        "##1. Accessing Elements: We can access individual elements or slices of a list using indexing & slicing.\n",
        "\n",
        "##A. Positive Indexing: Indexes starts from \"0\" for the first elements & increased by \"1\" for each next elements.\n",
        "\n",
        "##B. Negative Indexing: Indexes Start from \"-1\" for the last element & decrease by \"1\" for each preceding elements.\n",
        "\n",
        "##Example:"
      ],
      "metadata": {
        "id": "IO3gpyjJRO7b"
      }
    },
    {
      "cell_type": "code",
      "source": [
        "list = [1, 2, 3, 4, 5]\n",
        "print(list[0])\n",
        "print(list[-1])"
      ],
      "metadata": {
        "colab": {
          "base_uri": "https://localhost:8080/"
        },
        "id": "A-T4BZ1mQSzy",
        "outputId": "4a613ff2-0abe-43bb-8b9c-2665eb60bfc4"
      },
      "execution_count": null,
      "outputs": [
        {
          "output_type": "stream",
          "name": "stdout",
          "text": [
            "1\n",
            "5\n"
          ]
        }
      ]
    },
    {
      "cell_type": "markdown",
      "source": [
        "##C. Slicing: Slicing allows you to access a subset of the list by specifying a start index, stop index & optional step.\n",
        "\n",
        "##Example:"
      ],
      "metadata": {
        "id": "plXPKzxGT6SF"
      }
    },
    {
      "cell_type": "code",
      "source": [
        "my_list = [\"apple\", \"banana\", \"cherry\", \"date\", \"elderberry\"]\n",
        "print(my_list[1:4])\n",
        "print(my_list[:4])"
      ],
      "metadata": {
        "colab": {
          "base_uri": "https://localhost:8080/"
        },
        "id": "9oLN9ZrATnrW",
        "outputId": "80eec315-cb1b-4690-d0b0-b3c26df23a62"
      },
      "execution_count": null,
      "outputs": [
        {
          "output_type": "stream",
          "name": "stdout",
          "text": [
            "['banana', 'cherry', 'date']\n",
            "['apple', 'banana', 'cherry', 'date']\n"
          ]
        }
      ]
    },
    {
      "cell_type": "markdown",
      "source": [
        "##2. Modifying Elements: We can modify elements in a list by accessing them through their index & assigning new values.\n",
        "\n",
        "#Example:"
      ],
      "metadata": {
        "id": "GbDUWiopVJDi"
      }
    },
    {
      "cell_type": "code",
      "source": [
        "my_list = [\"apple\", \"banana\", \"cherry\", \"date\", \"elderberry\"]\n",
        "my_list[2] = \"kiwi\"\n",
        "print(my_list)"
      ],
      "metadata": {
        "colab": {
          "base_uri": "https://localhost:8080/"
        },
        "id": "Be5dIZU8Ufl_",
        "outputId": "c5b96012-5199-4d0b-cef7-6429b5e19d02"
      },
      "execution_count": null,
      "outputs": [
        {
          "output_type": "stream",
          "name": "stdout",
          "text": [
            "['apple', 'banana', 'kiwi', 'date', 'elderberry']\n"
          ]
        }
      ]
    },
    {
      "cell_type": "markdown",
      "source": [
        "##3. Deleting Elements: We can delete elements from a list using \"del\" statement the \"remove() method or \"pop() method.\n",
        "\n",
        "##Examples:"
      ],
      "metadata": {
        "id": "49rcFuOoVrgH"
      }
    },
    {
      "cell_type": "code",
      "source": [
        "#using \"del\"\n",
        "my_list = [\"apple\", \"banana\", \"cherry\", \"date\", \"elderberry\"]\n",
        "del my_list[2]\n",
        "print(my_list)"
      ],
      "metadata": {
        "colab": {
          "base_uri": "https://localhost:8080/"
        },
        "id": "baHWvsLTVj7T",
        "outputId": "32c4d6da-3d58-44e6-c33e-961ed9024606"
      },
      "execution_count": null,
      "outputs": [
        {
          "output_type": "stream",
          "name": "stdout",
          "text": [
            "['apple', 'banana', 'date', 'elderberry']\n"
          ]
        }
      ]
    },
    {
      "cell_type": "code",
      "source": [
        "#using \"remove\"\n",
        "my_list = [\"apple\", \"banana\", \"cherry\", \"date\", \"elderberry\"]\n",
        "my_list.remove(\"cherry\")\n",
        "print(my_list)"
      ],
      "metadata": {
        "colab": {
          "base_uri": "https://localhost:8080/"
        },
        "id": "MeI-qLzRWWIF",
        "outputId": "e30fa754-d9d9-462c-b9d0-fc0db93b1b9f"
      },
      "execution_count": null,
      "outputs": [
        {
          "output_type": "stream",
          "name": "stdout",
          "text": [
            "['apple', 'banana', 'date', 'elderberry']\n"
          ]
        }
      ]
    },
    {
      "cell_type": "code",
      "source": [
        "#using \"pop\"\n",
        "my_list = [\"apple\", \"banana\", \"cherry\", \"date\", \"elderberry\"]\n",
        "my_list.pop()\n",
        "print(my_list)"
      ],
      "metadata": {
        "colab": {
          "base_uri": "https://localhost:8080/"
        },
        "id": "jXwQEZf5Wiow",
        "outputId": "aa625031-2773-4b58-a6fc-0844b7610158"
      },
      "execution_count": null,
      "outputs": [
        {
          "output_type": "stream",
          "name": "stdout",
          "text": [
            "['apple', 'banana', 'cherry', 'date']\n"
          ]
        }
      ]
    },
    {
      "cell_type": "markdown",
      "source": [
        "--------------------------------------------------------------------------------------------"
      ],
      "metadata": {
        "id": "APsl4nngW09t"
      }
    },
    {
      "cell_type": "markdown",
      "source": [
        "##Q.4 Compress & Contrast tuples & lists with Example."
      ],
      "metadata": {
        "id": "a1fjWI_5W4g2"
      }
    },
    {
      "cell_type": "markdown",
      "source": [
        "##Ans. Here's Comparision of tuples & Lists in Python including example to illustrate their differences & Similarities:\n",
        "\n",
        "##Comparision of Tuples & Lists"
      ],
      "metadata": {
        "id": "YYcCrczCXL6M"
      }
    },
    {
      "cell_type": "markdown",
      "source": [
        "##Feature         >>       Tuples                  >>     Lists\n",
        "###1.Mutability   >>      Immutable                >>    Mutable\n",
        "###2.Syntax       >>        \"()\"                   >>     \"[]\"\n",
        "###3.Performance  >>   Faster & use less memory    >> slower & use more memory\n",
        "###4.Methods      >>  Limited: count(), index()    >> Extensive: append(), remove(), pop(), extend(), sort()\n",
        "###5.Use Cases    >> Fixed collection              >> Dynamic collection.\n",
        "###6.Nesting      >> can contains tuples or lists  >> can contains other lists or tuples."
      ],
      "metadata": {
        "id": "FM_qzwVGYUVS"
      }
    },
    {
      "cell_type": "markdown",
      "source": [
        "##Examples:\n",
        "##1. Mutability:"
      ],
      "metadata": {
        "id": "m6wJqCoTbylK"
      }
    },
    {
      "cell_type": "code",
      "source": [
        "#Tuples:\n",
        "my_tuple = (1, 2, 3)\n",
        "my_tuple[0] = 10  # This will raise a TypeError because tuples are immutable."
      ],
      "metadata": {
        "colab": {
          "base_uri": "https://localhost:8080/",
          "height": 176
        },
        "id": "Z0RFmE30W0LS",
        "outputId": "bb977adf-c1ea-4dcc-c8c7-5be245bd8a8a"
      },
      "execution_count": null,
      "outputs": [
        {
          "output_type": "error",
          "ename": "TypeError",
          "evalue": "'tuple' object does not support item assignment",
          "traceback": [
            "\u001b[0;31m---------------------------------------------------------------------------\u001b[0m",
            "\u001b[0;31mTypeError\u001b[0m                                 Traceback (most recent call last)",
            "\u001b[0;32m<ipython-input-36-89d4be8d7d31>\u001b[0m in \u001b[0;36m<cell line: 3>\u001b[0;34m()\u001b[0m\n\u001b[1;32m      1\u001b[0m \u001b[0;31m#Tuples:\u001b[0m\u001b[0;34m\u001b[0m\u001b[0;34m\u001b[0m\u001b[0m\n\u001b[1;32m      2\u001b[0m \u001b[0mmy_tuple\u001b[0m \u001b[0;34m=\u001b[0m \u001b[0;34m(\u001b[0m\u001b[0;36m1\u001b[0m\u001b[0;34m,\u001b[0m \u001b[0;36m2\u001b[0m\u001b[0;34m,\u001b[0m \u001b[0;36m3\u001b[0m\u001b[0;34m)\u001b[0m\u001b[0;34m\u001b[0m\u001b[0;34m\u001b[0m\u001b[0m\n\u001b[0;32m----> 3\u001b[0;31m \u001b[0mmy_tuple\u001b[0m\u001b[0;34m[\u001b[0m\u001b[0;36m0\u001b[0m\u001b[0;34m]\u001b[0m \u001b[0;34m=\u001b[0m \u001b[0;36m10\u001b[0m  \u001b[0;31m# This will raise a TypeError because tuples are immutable.\u001b[0m\u001b[0;34m\u001b[0m\u001b[0;34m\u001b[0m\u001b[0m\n\u001b[0m",
            "\u001b[0;31mTypeError\u001b[0m: 'tuple' object does not support item assignment"
          ]
        }
      ]
    },
    {
      "cell_type": "code",
      "source": [
        "#Lists:\n",
        "my_list = [1, 2, 3]\n",
        "my_list[0] = 10  # This is valid because lists are mutable.\n",
        "print(my_list)"
      ],
      "metadata": {
        "colab": {
          "base_uri": "https://localhost:8080/"
        },
        "id": "S5j2YKsecIrd",
        "outputId": "2e824e4c-b495-4540-9646-e92e7fb5fbd3"
      },
      "execution_count": null,
      "outputs": [
        {
          "output_type": "stream",
          "name": "stdout",
          "text": [
            "[10, 2, 3]\n"
          ]
        }
      ]
    },
    {
      "cell_type": "markdown",
      "source": [
        "##2. Syntax:"
      ],
      "metadata": {
        "id": "93rtF-U0crUO"
      }
    },
    {
      "cell_type": "code",
      "source": [
        "#tuple:\n",
        "my_tuple = (1, 2, 3)"
      ],
      "metadata": {
        "id": "bYDgsN6FceTE"
      },
      "execution_count": null,
      "outputs": []
    },
    {
      "cell_type": "code",
      "source": [
        "#list:\n",
        "my_list = [1, 2, 3]"
      ],
      "metadata": {
        "id": "8SnuIyU1c94g"
      },
      "execution_count": null,
      "outputs": []
    },
    {
      "cell_type": "markdown",
      "source": [
        "##3. Methods:"
      ],
      "metadata": {
        "id": "3GGd9higdRsF"
      }
    },
    {
      "cell_type": "code",
      "source": [
        "#tuples:\n",
        "my_tuple = (1, 5, 3, 6)\n",
        "print(my_tuple.count(2))\n",
        "print(my_tuple.index(3))"
      ],
      "metadata": {
        "colab": {
          "base_uri": "https://localhost:8080/"
        },
        "id": "ncjAwdcLdcAF",
        "outputId": "6edf2a1d-77e6-4ffb-bbcf-22f9dbbdce6d"
      },
      "execution_count": null,
      "outputs": [
        {
          "output_type": "stream",
          "name": "stdout",
          "text": [
            "0\n",
            "2\n"
          ]
        }
      ]
    },
    {
      "cell_type": "code",
      "source": [
        "#list:\n",
        "my_list = [1, 2, 5, 2]\n",
        "my_list.append(4)\n",
        "my_list.remove(2)\n",
        "my_list.pop()"
      ],
      "metadata": {
        "colab": {
          "base_uri": "https://localhost:8080/"
        },
        "id": "shODCotveeWj",
        "outputId": "4e789ffa-9bec-4604-eb07-f84ce10f6cfb"
      },
      "execution_count": null,
      "outputs": [
        {
          "output_type": "execute_result",
          "data": {
            "text/plain": [
              "4"
            ]
          },
          "metadata": {},
          "execution_count": 50
        }
      ]
    },
    {
      "cell_type": "markdown",
      "source": [
        "##4. Use Cases:"
      ],
      "metadata": {
        "id": "lGKcgWMOfgKb"
      }
    },
    {
      "cell_type": "code",
      "source": [
        "#tuple: Fixed data structure\n",
        "my_point = (3, 4)"
      ],
      "metadata": {
        "id": "k_gQst_QesA0"
      },
      "execution_count": null,
      "outputs": []
    },
    {
      "cell_type": "code",
      "source": [
        "#list: Dynamic data structure:\n",
        "shopping_list = [\"apple\", \"mango\", \"cherry\"]\n",
        "shopping_list.append(\"grape\")\n",
        "print(shopping_list)"
      ],
      "metadata": {
        "colab": {
          "base_uri": "https://localhost:8080/"
        },
        "id": "WqCPpaPTfz-o",
        "outputId": "7b7cd21a-5073-4a17-a65e-366c0e65d110"
      },
      "execution_count": null,
      "outputs": [
        {
          "output_type": "stream",
          "name": "stdout",
          "text": [
            "['apple', 'mango', 'cherry', 'grape']\n"
          ]
        }
      ]
    },
    {
      "cell_type": "markdown",
      "source": [
        "##5. Nesting:"
      ],
      "metadata": {
        "id": "e2c-j_BMgtSj"
      }
    },
    {
      "cell_type": "code",
      "source": [
        "#Nested tuple:\n",
        "nested_tuple = ((1, 2), (3, 4))\n",
        "\n",
        "#Nested list:\n",
        "nested_list = [[1, 2], [3, 4]]"
      ],
      "metadata": {
        "id": "e2kLcnzZgesL"
      },
      "execution_count": null,
      "outputs": []
    },
    {
      "cell_type": "markdown",
      "source": [
        "-------------------------------------------------------------------------------------------"
      ],
      "metadata": {
        "id": "WqnRctVsg_tm"
      }
    },
    {
      "cell_type": "markdown",
      "source": [
        "##Q.5 Describe the key feature of sets & provide examples of their use."
      ],
      "metadata": {
        "id": "HbGNGQa7hXZA"
      }
    },
    {
      "cell_type": "markdown",
      "source": [
        "##Ans. In Python programming a set is a built-in data structure with the Given below key Features:\n",
        "\n",
        "##1. Uniqueness:\n",
        "\n",
        "##* Key Feature: A set automatically remove duplicate values, ensuring all elements are unique.\n",
        "\n",
        "##Example:\n"
      ],
      "metadata": {
        "id": "ZmgODcfChaoI"
      }
    },
    {
      "cell_type": "code",
      "source": [
        "numbers = {1, 2, 2, 3, 4, 4, 5}\n",
        "print(numbers) #The Duplicate \"2\" & \"4\" Automatically removed."
      ],
      "metadata": {
        "id": "0RB0qcPchUbS",
        "colab": {
          "base_uri": "https://localhost:8080/"
        },
        "outputId": "c4ac4bb6-1e8b-457e-a042-6981bba8e1c2"
      },
      "execution_count": null,
      "outputs": [
        {
          "output_type": "stream",
          "name": "stdout",
          "text": [
            "{1, 2, 3, 4, 5}\n"
          ]
        }
      ]
    },
    {
      "cell_type": "markdown",
      "source": [
        "##2. Unoedered Collection:\n",
        "\n",
        "##* Key Feature: Sets are unordered, meaning there is no guranteed order for elements.\n",
        "\n",
        "##Example:"
      ],
      "metadata": {
        "id": "cNTXiuXHzYFk"
      }
    },
    {
      "cell_type": "code",
      "source": [
        "fruits = {\"apple\", \"banana\", \"cherry\"}\n",
        "print(fruits) # the elements are stored in no particular order & cannot be accessed by an index."
      ],
      "metadata": {
        "colab": {
          "base_uri": "https://localhost:8080/"
        },
        "id": "VltDayUTzD6d",
        "outputId": "47074858-1d2f-4be0-fcd8-ba04a5d8b772"
      },
      "execution_count": null,
      "outputs": [
        {
          "output_type": "stream",
          "name": "stdout",
          "text": [
            "{'banana', 'cherry', 'apple'}\n"
          ]
        }
      ]
    },
    {
      "cell_type": "markdown",
      "source": [
        "##3. Immutable Elements:\n",
        "\n",
        "##* Key Feature: all elements in a set must be of an immutable type such as numbers, strings or tuples.\n",
        "\n",
        "##Example:"
      ],
      "metadata": {
        "id": "D4w1XZeC0W3C"
      }
    },
    {
      "cell_type": "code",
      "source": [
        "valid_set = {(1, 2), \"apple\", 3.14}\n",
        "invalid_set = {[1, 2], \"banana\", 3.14}  # This will raise a TypeError because lists are mutable.\n",
        "\n",
        "# Lists are mutable & cannot be include in a set, whereas tuples, which are immutable are allowed."
      ],
      "metadata": {
        "colab": {
          "base_uri": "https://localhost:8080/",
          "height": 193
        },
        "id": "d2W0nt86z8nY",
        "outputId": "3ef2a312-e9ec-4cee-9992-188ab93e82fe"
      },
      "execution_count": null,
      "outputs": [
        {
          "output_type": "error",
          "ename": "TypeError",
          "evalue": "unhashable type: 'list'",
          "traceback": [
            "\u001b[0;31m---------------------------------------------------------------------------\u001b[0m",
            "\u001b[0;31mTypeError\u001b[0m                                 Traceback (most recent call last)",
            "\u001b[0;32m<ipython-input-6-f0cf371e5d75>\u001b[0m in \u001b[0;36m<cell line: 2>\u001b[0;34m()\u001b[0m\n\u001b[1;32m      1\u001b[0m \u001b[0mvalid_set\u001b[0m \u001b[0;34m=\u001b[0m \u001b[0;34m{\u001b[0m\u001b[0;34m(\u001b[0m\u001b[0;36m1\u001b[0m\u001b[0;34m,\u001b[0m \u001b[0;36m2\u001b[0m\u001b[0;34m)\u001b[0m\u001b[0;34m,\u001b[0m \u001b[0;34m\"apple\"\u001b[0m\u001b[0;34m,\u001b[0m \u001b[0;36m3.14\u001b[0m\u001b[0;34m}\u001b[0m\u001b[0;34m\u001b[0m\u001b[0;34m\u001b[0m\u001b[0m\n\u001b[0;32m----> 2\u001b[0;31m \u001b[0minvalid_set\u001b[0m \u001b[0;34m=\u001b[0m \u001b[0;34m{\u001b[0m\u001b[0;34m[\u001b[0m\u001b[0;36m1\u001b[0m\u001b[0;34m,\u001b[0m \u001b[0;36m2\u001b[0m\u001b[0;34m]\u001b[0m\u001b[0;34m,\u001b[0m \u001b[0;34m\"banana\"\u001b[0m\u001b[0;34m,\u001b[0m \u001b[0;36m3.14\u001b[0m\u001b[0;34m}\u001b[0m  \u001b[0;31m# This will raise a TypeError because lists are mutable.\u001b[0m\u001b[0;34m\u001b[0m\u001b[0;34m\u001b[0m\u001b[0m\n\u001b[0m\u001b[1;32m      3\u001b[0m \u001b[0;34m\u001b[0m\u001b[0m\n\u001b[1;32m      4\u001b[0m \u001b[0;31m# Lists are mutable & cannot be include in a set, whereas tuples, which are immutable are allowed.\u001b[0m\u001b[0;34m\u001b[0m\u001b[0;34m\u001b[0m\u001b[0m\n",
            "\u001b[0;31mTypeError\u001b[0m: unhashable type: 'list'"
          ]
        }
      ]
    },
    {
      "cell_type": "markdown",
      "source": [
        "##4. Set Operation:\n",
        "\n",
        "##* Key Feature: Python sets supports operations like union, intersection, difference & symmetric diffrence.\n",
        "\n",
        "##Examples:"
      ],
      "metadata": {
        "id": "zfapHw7e1puQ"
      }
    },
    {
      "cell_type": "code",
      "source": [
        "set_a = {1, 2, 3, 4}\n",
        "set_b = {3, 4, 5, 6}\n",
        "\n",
        "#Union:\n",
        "print(set_a.union(set_b))\n",
        "\n",
        "#Intersection:\n",
        "print(set_a.intersection(set_b))\n",
        "\n",
        "#Difference:\n",
        "print(set_a.difference(set_b))\n",
        "\n",
        "#Symmetric Difference\n",
        "print(set_a.symmetric_difference(set_b))"
      ],
      "metadata": {
        "colab": {
          "base_uri": "https://localhost:8080/"
        },
        "id": "1MbwEBgM1LUA",
        "outputId": "1aa7c709-caaa-4466-8794-9f5135e0b996"
      },
      "execution_count": null,
      "outputs": [
        {
          "output_type": "stream",
          "name": "stdout",
          "text": [
            "{1, 2, 3, 4, 5, 6}\n",
            "{3, 4}\n",
            "{1, 2}\n",
            "{1, 2, 5, 6}\n"
          ]
        }
      ]
    },
    {
      "cell_type": "markdown",
      "source": [
        "##Examples of use in python Programming:\n",
        "\n",
        "##1. Removing Duplicates From a list:\n",
        "\n",
        "##Example:"
      ],
      "metadata": {
        "id": "847Z79Rs2kof"
      }
    },
    {
      "cell_type": "code",
      "source": [
        "my_list = [1, 2, 2, 3, 4, 4, 5]\n",
        "unique_list = list(set(my_list))\n",
        "print(unique_list)"
      ],
      "metadata": {
        "colab": {
          "base_uri": "https://localhost:8080/"
        },
        "id": "1WMqr62T2eJZ",
        "outputId": "e04cab64-7210-41af-dc01-18a92ebef8d7"
      },
      "execution_count": null,
      "outputs": [
        {
          "output_type": "stream",
          "name": "stdout",
          "text": [
            "[1, 2, 3, 4, 5]\n"
          ]
        }
      ]
    },
    {
      "cell_type": "markdown",
      "source": [
        "##2. Membership Testing:\n",
        "\n",
        "##Example:"
      ],
      "metadata": {
        "id": "l13vp-6_3PjK"
      }
    },
    {
      "cell_type": "code",
      "source": [
        "vegetables = {\"tomato\", \"potato\", \"onion\"}\n",
        "print(\"tomato\" in vegetables)\n",
        "print(\"carrot\" in vegetables)"
      ],
      "metadata": {
        "colab": {
          "base_uri": "https://localhost:8080/"
        },
        "id": "Z5wFsr1W2_E-",
        "outputId": "30f5106d-e0df-474c-fd9d-9703464d2bb6"
      },
      "execution_count": null,
      "outputs": [
        {
          "output_type": "stream",
          "name": "stdout",
          "text": [
            "True\n",
            "False\n"
          ]
        }
      ]
    },
    {
      "cell_type": "markdown",
      "source": [
        "##3. Finding Common Elements:\n",
        "\n",
        "##Example:"
      ],
      "metadata": {
        "id": "PoBjHnSS3rYc"
      }
    },
    {
      "cell_type": "code",
      "source": [
        "list_a = [1, 2, 3, 4, 5]\n",
        "list_b = [4, 5, 6, 7, 8]\n",
        "common = set(list_a) & set(list_b)\n",
        "print(common)"
      ],
      "metadata": {
        "colab": {
          "base_uri": "https://localhost:8080/"
        },
        "id": "hqPkMv3G3kGl",
        "outputId": "1b9e913f-edc0-4799-f3a4-f9aec6ad8676"
      },
      "execution_count": null,
      "outputs": [
        {
          "output_type": "stream",
          "name": "stdout",
          "text": [
            "{4, 5}\n"
          ]
        }
      ]
    },
    {
      "cell_type": "markdown",
      "source": [
        "##4. Set Difference to identify Unique Items:\n",
        "\n",
        "##Example:"
      ],
      "metadata": {
        "id": "6CKzFLaP4TPS"
      }
    },
    {
      "cell_type": "code",
      "source": [
        "list_a = [1, 2, 3, 4, 5]\n",
        "list_b = [4, 5, 6, 7, 8]\n",
        "unique_a = set(list_a) - set(list_b)\n",
        "unique_b = set(list_b) - set(list_a)\n",
        "print(unique_a)\n",
        "print(unique_b)"
      ],
      "metadata": {
        "colab": {
          "base_uri": "https://localhost:8080/"
        },
        "id": "8AkDOZhd4O8c",
        "outputId": "0627c420-5476-4e67-c998-38a6139c10b0"
      },
      "execution_count": null,
      "outputs": [
        {
          "output_type": "stream",
          "name": "stdout",
          "text": [
            "{1, 2, 3}\n",
            "{8, 6, 7}\n"
          ]
        }
      ]
    },
    {
      "cell_type": "markdown",
      "source": [
        "-----------------------------------------------------------------------------------------"
      ],
      "metadata": {
        "id": "JqziDRhQ4rI0"
      }
    },
    {
      "cell_type": "markdown",
      "source": [
        "##Q.6 Discuss the use cases of tuples & sets in Python Programming."
      ],
      "metadata": {
        "id": "VfV6Adlk4qoA"
      }
    },
    {
      "cell_type": "markdown",
      "source": [
        "##Ans. A tuples is an ordered, Immutable collection of elements. Tuples are used when you need store a collection of items that should not be changed in the program. Here is some use cases of tuples:\n",
        "\n",
        "##1. Immutable Grouping of Related Data:\n",
        "\n",
        "##*Use case: Tuple are ideal for grouping related data that should not change, such as coordinates, RGB values or database records.\n",
        "\n",
        "##Example:"
      ],
      "metadata": {
        "id": "_nlg5Ggp5Khd"
      }
    },
    {
      "cell_type": "code",
      "source": [
        "tuple = (10, 20, 30)\n",
        "tuple(0) = 5 # This will raise an error because tuples are immutable."
      ],
      "metadata": {
        "id": "34BSH7kV4jmf",
        "colab": {
          "base_uri": "https://localhost:8080/",
          "height": 106
        },
        "outputId": "1cb77ead-c4c6-4374-a03e-baec6c3163cc"
      },
      "execution_count": null,
      "outputs": [
        {
          "output_type": "error",
          "ename": "SyntaxError",
          "evalue": "cannot assign to function call here. Maybe you meant '==' instead of '='? (<ipython-input-1-44ee75fd197e>, line 2)",
          "traceback": [
            "\u001b[0;36m  File \u001b[0;32m\"<ipython-input-1-44ee75fd197e>\"\u001b[0;36m, line \u001b[0;32m2\u001b[0m\n\u001b[0;31m    tuple(0) = 5 # This will raise an error because tuples are immutable.\u001b[0m\n\u001b[0m    ^\u001b[0m\n\u001b[0;31mSyntaxError\u001b[0m\u001b[0;31m:\u001b[0m cannot assign to function call here. Maybe you meant '==' instead of '='?\n"
          ]
        }
      ]
    },
    {
      "cell_type": "markdown",
      "source": [
        "##2. Returning Multiple Values from Functions:\n",
        "\n",
        "##Use case: Function can return multiple values in a tuple, which can then be unpacked by the caller.\n",
        "\n",
        "##Example:\n",
        "\n"
      ],
      "metadata": {
        "id": "jAXLxhfvuJkO"
      }
    },
    {
      "cell_type": "code",
      "source": [
        "def get_coordinates():\n",
        "    x = 10\n",
        "    y = 20\n",
        "    return (x, y)\n",
        "\n",
        "coordinates = get_coordinates()\n",
        "print(coordinates)"
      ],
      "metadata": {
        "id": "no2OT6l4uFT6",
        "colab": {
          "base_uri": "https://localhost:8080/"
        },
        "outputId": "b4ed397e-07df-4ed8-9849-27abd75eb261"
      },
      "execution_count": 1,
      "outputs": [
        {
          "output_type": "stream",
          "name": "stdout",
          "text": [
            "(10, 20)\n"
          ]
        }
      ]
    },
    {
      "cell_type": "markdown",
      "source": [
        "##3. Using Tuples as Dictionary Keys\n",
        "\n",
        "##Use case: tuple are immutable, they can be used as a keys in dictionaries where the key needs to be a compound value.\n",
        "\n",
        "##Example:"
      ],
      "metadata": {
        "id": "9yx3OCQKHmtK"
      }
    },
    {
      "cell_type": "code",
      "source": [
        "coordinates = {\n",
        "    (0, 0): \"Origin\",\n",
        "    (1, 2): \"Point 1\",\n",
        "    (3, 4): \"Point 2\"\n",
        "}\n",
        "print(coordinates[(1, 2)])"
      ],
      "metadata": {
        "colab": {
          "base_uri": "https://localhost:8080/"
        },
        "id": "xK4WU0MlHeRz",
        "outputId": "69154d79-a346-4c7f-ccdc-d3fc604b2628"
      },
      "execution_count": 2,
      "outputs": [
        {
          "output_type": "stream",
          "name": "stdout",
          "text": [
            "Point 1\n"
          ]
        }
      ]
    },
    {
      "cell_type": "markdown",
      "source": [
        "##4. Storing Hetrogeneous Data:\n",
        "\n",
        "##Use case: Tuples can store diffrent types of data within the same collection, making them useful for passing around related but different types of data.\n",
        "\n",
        "##Example:"
      ],
      "metadata": {
        "id": "-pIC0A0FIXWz"
      }
    },
    {
      "cell_type": "code",
      "source": [
        "man = (\"kishore\", 25, \"male\")\n",
        "print(man)\n"
      ],
      "metadata": {
        "colab": {
          "base_uri": "https://localhost:8080/"
        },
        "id": "g1iD0UKNIKUO",
        "outputId": "c0173ae3-adbd-4c8c-879b-b82dc8d7fa20"
      },
      "execution_count": 3,
      "outputs": [
        {
          "output_type": "stream",
          "name": "stdout",
          "text": [
            "('kishore', 25, 'male')\n"
          ]
        }
      ]
    },
    {
      "cell_type": "markdown",
      "source": [
        "##5. Function Argument Unpacking:\n",
        "\n",
        "##Use case: Tuples are often used to unpack multiple arguments when calling functions.\n",
        "\n",
        "##Example:"
      ],
      "metadata": {
        "id": "DDSgeN5nJMAj"
      }
    },
    {
      "cell_type": "code",
      "source": [
        "def add(a, b):\n",
        "    return a + b\n",
        "\n",
        "values = (3, 4)\n",
        "result = add(*values)\n",
        "print(result)"
      ],
      "metadata": {
        "colab": {
          "base_uri": "https://localhost:8080/"
        },
        "id": "RSEffopPJJGO",
        "outputId": "9a41f464-a9da-4bd9-da9e-6dd674d4f485"
      },
      "execution_count": 4,
      "outputs": [
        {
          "output_type": "stream",
          "name": "stdout",
          "text": [
            "7\n"
          ]
        }
      ]
    },
    {
      "cell_type": "markdown",
      "source": [
        "##Use Case of Sets in Python:\n",
        "##A set is an unordred collection of unique elements. Sets are typically used when you need to eliminate duplicates or perform mathmatical set operations. Here are some Key ue cases:\n",
        "\n",
        "##1. Removing Duplicates from a collection:\n"
      ],
      "metadata": {
        "id": "ioiypERNKDJS"
      }
    },
    {
      "cell_type": "code",
      "source": [
        "items = [1, 2, 2, 3, 4, 4, 5]\n",
        "unique_items = set(items)\n",
        "print(unique_items)"
      ],
      "metadata": {
        "colab": {
          "base_uri": "https://localhost:8080/"
        },
        "id": "4elo6A9IJpSO",
        "outputId": "e0e5ee7c-2345-432c-d866-2eb9ef28d8ff"
      },
      "execution_count": 5,
      "outputs": [
        {
          "output_type": "stream",
          "name": "stdout",
          "text": [
            "{1, 2, 3, 4, 5}\n"
          ]
        }
      ]
    },
    {
      "cell_type": "markdown",
      "source": [
        "##2. Membership Testing:"
      ],
      "metadata": {
        "id": "T6tvlI8LLWR5"
      }
    },
    {
      "cell_type": "code",
      "source": [
        "vegetables = {\"tomato\", \"potato\", \"onion\"}\n",
        "print(\"tomato\" in vegetables)\n",
        "print(\"carrot\" in vegetables)"
      ],
      "metadata": {
        "colab": {
          "base_uri": "https://localhost:8080/"
        },
        "id": "CnVjswnSLULm",
        "outputId": "9fed3f4d-ae39-4641-c672-6127f5f2391e"
      },
      "execution_count": 6,
      "outputs": [
        {
          "output_type": "stream",
          "name": "stdout",
          "text": [
            "True\n",
            "False\n"
          ]
        }
      ]
    },
    {
      "cell_type": "markdown",
      "source": [
        "##3. Mathmatical Set operations:"
      ],
      "metadata": {
        "id": "LhTh0BKfLrLQ"
      }
    },
    {
      "cell_type": "code",
      "source": [
        "set_a = {1, 2, 3, 4}\n",
        "set_b = {3, 4, 5, 6}\n",
        "\n",
        "#Union:\n",
        "print(set_a.union(set_b))\n",
        "\n",
        "#Intersection:\n",
        "print(set_a.intersection(set_b))\n",
        "\n",
        "#Difference:\n",
        "print(set_a.difference(set_b))\n",
        "\n",
        "#Symmetric Difference"
      ],
      "metadata": {
        "colab": {
          "base_uri": "https://localhost:8080/"
        },
        "id": "9X3VjFxULoMo",
        "outputId": "b1c06624-6dd0-48e0-8739-d0c301e1d0af"
      },
      "execution_count": 7,
      "outputs": [
        {
          "output_type": "stream",
          "name": "stdout",
          "text": [
            "{1, 2, 3, 4, 5, 6}\n",
            "{3, 4}\n",
            "{1, 2}\n"
          ]
        }
      ]
    },
    {
      "cell_type": "markdown",
      "source": [
        "##4. Filtering Unique Items Acros Multiple Collection:"
      ],
      "metadata": {
        "id": "BhMFge7zL6Y3"
      }
    },
    {
      "cell_type": "code",
      "source": [
        "list_a = [1, 2, 3, 4, 5]\n",
        "list_b = [4, 5, 6, 7, 8]\n",
        "unique_a = set(list_a) - set(list_b)\n",
        "print(unique_a)"
      ],
      "metadata": {
        "colab": {
          "base_uri": "https://localhost:8080/"
        },
        "id": "FA-x2kSeL2jc",
        "outputId": "038921ef-d97b-400b-8754-01226ab65190"
      },
      "execution_count": 8,
      "outputs": [
        {
          "output_type": "stream",
          "name": "stdout",
          "text": [
            "{1, 2, 3}\n"
          ]
        }
      ]
    },
    {
      "cell_type": "markdown",
      "source": [
        "##5. Efficient Data Comparision:"
      ],
      "metadata": {
        "id": "Wzvl2SQWMqeF"
      }
    },
    {
      "cell_type": "code",
      "source": [
        "set_a = {1, 2, 3, 4, 5}\n",
        "set_b = {4, 5, 6, 7, 8}\n",
        "common = set_a & set_b\n",
        "print(common)"
      ],
      "metadata": {
        "colab": {
          "base_uri": "https://localhost:8080/"
        },
        "id": "7MjfxoihMpXF",
        "outputId": "f07ecdd6-96a7-425f-8a89-7977385b7f1a"
      },
      "execution_count": 9,
      "outputs": [
        {
          "output_type": "stream",
          "name": "stdout",
          "text": [
            "{4, 5}\n"
          ]
        }
      ]
    },
    {
      "cell_type": "markdown",
      "source": [
        "##6. Tracking Unique Items:"
      ],
      "metadata": {
        "id": "fNmVSFXrM23K"
      }
    },
    {
      "cell_type": "code",
      "source": [
        "user_id = set()\n",
        "user_id.add(123)\n",
        "user_id.add(456)\n",
        "user_id.add(789)\n",
        "print(user_id)"
      ],
      "metadata": {
        "colab": {
          "base_uri": "https://localhost:8080/"
        },
        "id": "QGzbrIOTM072",
        "outputId": "4081d7bb-9ca8-475f-8945-86436d1417ab"
      },
      "execution_count": 13,
      "outputs": [
        {
          "output_type": "stream",
          "name": "stdout",
          "text": [
            "{456, 123, 789}\n"
          ]
        }
      ]
    },
    {
      "cell_type": "markdown",
      "source": [
        "----------------------------------------------------------------------------------------"
      ],
      "metadata": {
        "id": "gHuWRGaaNhmd"
      }
    },
    {
      "cell_type": "markdown",
      "source": [
        "##Q.7 Describe how to add, modify & delete items in a dictionary with Examples."
      ],
      "metadata": {
        "id": "PJwsBau7Nnrh"
      }
    },
    {
      "cell_type": "markdown",
      "source": [
        "##Ans. In Python Dictionaries are mutable, meaning you can add, modify & delete items. A Dictionary consists of key-value pairs, where each key is unique. Here's how you can perform these operations:\n",
        "\n",
        "##1. Adding Items to a Dictionary:\n",
        "##We can add a new key-value pair to a dictionary by simply assigning a value to a new key.\n",
        "\n",
        "#Example:\n"
      ],
      "metadata": {
        "id": "qeowMIHROL5t"
      }
    },
    {
      "cell_type": "code",
      "source": [
        "#creating a Dictionary:\n",
        "my_dict = {}\n",
        "\n",
        "#Adding Items:\n",
        "my_dict[\"name\"] = \"kishore\"\n",
        "my_dict[\"age\"] = 25\n",
        "print(my_dict)"
      ],
      "metadata": {
        "colab": {
          "base_uri": "https://localhost:8080/"
        },
        "id": "fZtB3BPBNGLE",
        "outputId": "d9cd345a-06ba-4fc7-e8f4-1eb14bb49725"
      },
      "execution_count": 15,
      "outputs": [
        {
          "output_type": "stream",
          "name": "stdout",
          "text": [
            "{'name': 'kishore', 'age': 25}\n"
          ]
        }
      ]
    },
    {
      "cell_type": "markdown",
      "source": [
        "##2. Modifying Items in a Dictionary:\n",
        "\n",
        "##You can modify the value associated with an existing key by reassigning it.\n",
        "\n",
        "##Example:"
      ],
      "metadata": {
        "id": "GAZl2f4NQLOa"
      }
    },
    {
      "cell_type": "code",
      "source": [
        "#existing Dictionary\n",
        "person = {\"name\": \"kishore\", \"age\": 25}\n",
        "\n",
        "#Modifying Items:\n",
        "person[\"age\"] = 26\n",
        "print(person)"
      ],
      "metadata": {
        "colab": {
          "base_uri": "https://localhost:8080/"
        },
        "id": "g9g-OjkeQAr-",
        "outputId": "01134141-2dc2-4781-e7d8-258876315633"
      },
      "execution_count": 16,
      "outputs": [
        {
          "output_type": "stream",
          "name": "stdout",
          "text": [
            "{'name': 'kishore', 'age': 26}\n"
          ]
        }
      ]
    },
    {
      "cell_type": "markdown",
      "source": [
        "##3. Deleting Items from a Dictionary:\n",
        "##We can delete a key-value pair from a dictionary using several methods:\n",
        "\n",
        "##A. \"del\" Statement:\n",
        "\n",
        "##Example:"
      ],
      "metadata": {
        "id": "XR906aPpQ6KM"
      }
    },
    {
      "cell_type": "code",
      "source": [
        "#Existing Dictionary:\n",
        "person = {\"name\": \"kishore\", \"age\": 25}\n",
        "\n",
        "#Deleting Items:\n",
        "del person[\"age\"]\n",
        "print(person)"
      ],
      "metadata": {
        "colab": {
          "base_uri": "https://localhost:8080/"
        },
        "id": "qp0CYlCMQ2xr",
        "outputId": "d4ab45d4-42d0-40a2-9a53-23c68ee3f6d8"
      },
      "execution_count": 17,
      "outputs": [
        {
          "output_type": "stream",
          "name": "stdout",
          "text": [
            "{'name': 'kishore'}\n"
          ]
        }
      ]
    },
    {
      "cell_type": "markdown",
      "source": [
        "##B. \"pop\" Statement:\n",
        "\n",
        "##Example:"
      ],
      "metadata": {
        "id": "G5Bmq31aRpzr"
      }
    },
    {
      "cell_type": "code",
      "source": [
        "#Existing Dictionary:\n",
        "person = {\"name\": \"kishore\", \"age\": 25}\n",
        "\n",
        "#Deleting Items:\n",
        "person.pop(\"age\")\n",
        "print(person)"
      ],
      "metadata": {
        "colab": {
          "base_uri": "https://localhost:8080/"
        },
        "id": "LsWMoK6ZRm3R",
        "outputId": "4b68cbed-9c53-47d2-b8ba-924e6aba979f"
      },
      "execution_count": 18,
      "outputs": [
        {
          "output_type": "stream",
          "name": "stdout",
          "text": [
            "{'name': 'kishore'}\n"
          ]
        }
      ]
    },
    {
      "cell_type": "markdown",
      "source": [
        "##C. \"clear() Method:\n",
        "\n",
        "##Example:"
      ],
      "metadata": {
        "id": "TOAhzeGjR9rB"
      }
    },
    {
      "cell_type": "code",
      "source": [
        "#Existing Dictionary:\n",
        "person = {\"name\": \"kishore\", \"age\": 25}\n",
        "\n",
        "#Deleting Items:\n",
        "person.clear()\n",
        "print(person)"
      ],
      "metadata": {
        "colab": {
          "base_uri": "https://localhost:8080/"
        },
        "id": "uWUWQkcIR3m-",
        "outputId": "febccfb1-352a-4a75-f124-791359ebe8b1"
      },
      "execution_count": 19,
      "outputs": [
        {
          "output_type": "stream",
          "name": "stdout",
          "text": [
            "{}\n"
          ]
        }
      ]
    },
    {
      "cell_type": "markdown",
      "source": [
        "------------------------------------------------------------------------------------------"
      ],
      "metadata": {
        "id": "m-4YX-TFSMqC"
      }
    },
    {
      "cell_type": "markdown",
      "source": [
        "##Q.8 Discuss the importance of dictionary keys being immutable & Provide Examples."
      ],
      "metadata": {
        "id": "b2zXlOJPSRmb"
      }
    },
    {
      "cell_type": "markdown",
      "source": [
        "##Ans: In Python, dictionary keys must be immutable. This immutability is crucial for ensuring the integrity and performance of dictionaries. Here why this requirement is important, along with examples:\n",
        "\n",
        "##Importance of Dictionary Keys Being Immutable\n",
        "\n",
        "##1. Consistency in Hashing\n",
        "## Dictionaries in Python are implemented as hash tables, where each key is hashed to a specific location in memory. Immutable objects, like strings, numbers, and tuples (containing only immutable elements), have a fixed hash value. If dictionary keys were mutable, their hash values could change after they were added to the dictionary, leading to unpredictable behavior, as the key would no longer map to the correct location in the hash table.\n",
        "\n",
        "##Example:"
      ],
      "metadata": {
        "id": "PseBhZgjSvl1"
      }
    },
    {
      "cell_type": "code",
      "source": [
        "#valid key (immutable)\n",
        "my_dict = {}\n",
        "my_dict[10] = \"ten\"\n",
        "my_dict[\"hello\"] = \"greeting\"\n",
        "print(my_dict)"
      ],
      "metadata": {
        "colab": {
          "base_uri": "https://localhost:8080/"
        },
        "id": "w3FvVLPmSJ_m",
        "outputId": "1b059b36-f4da-4b5f-f94c-e5c8694d64a9"
      },
      "execution_count": 20,
      "outputs": [
        {
          "output_type": "stream",
          "name": "stdout",
          "text": [
            "{10: 'ten', 'hello': 'greeting'}\n"
          ]
        }
      ]
    },
    {
      "cell_type": "markdown",
      "source": [
        "##2. Dictionary Integrity:\n",
        "##If keys were mutable, modifying a key after it has been added could disrupt the dictionary's structure. This could lead to situations where a key-value pair becomes inaccessible or causes unexpected errors.\n",
        "\n",
        "##Example"
      ],
      "metadata": {
        "id": "OwJMMC4qTtSb"
      }
    },
    {
      "cell_type": "code",
      "source": [
        "my_dict = {}\n",
        "my_dict[[1, 2, 3]] = \"list\"  # This will raise a TypeError because lists are mutable."
      ],
      "metadata": {
        "colab": {
          "base_uri": "https://localhost:8080/",
          "height": 158
        },
        "id": "X1_90hzsTifI",
        "outputId": "1a37da3b-7008-48d2-ccf7-14c22619b93d"
      },
      "execution_count": 21,
      "outputs": [
        {
          "output_type": "error",
          "ename": "TypeError",
          "evalue": "unhashable type: 'list'",
          "traceback": [
            "\u001b[0;31m---------------------------------------------------------------------------\u001b[0m",
            "\u001b[0;31mTypeError\u001b[0m                                 Traceback (most recent call last)",
            "\u001b[0;32m<ipython-input-21-c2bb5c7da18a>\u001b[0m in \u001b[0;36m<cell line: 2>\u001b[0;34m()\u001b[0m\n\u001b[1;32m      1\u001b[0m \u001b[0mmy_dict\u001b[0m \u001b[0;34m=\u001b[0m \u001b[0;34m{\u001b[0m\u001b[0;34m}\u001b[0m\u001b[0;34m\u001b[0m\u001b[0;34m\u001b[0m\u001b[0m\n\u001b[0;32m----> 2\u001b[0;31m \u001b[0mmy_dict\u001b[0m\u001b[0;34m[\u001b[0m\u001b[0;34m[\u001b[0m\u001b[0;36m1\u001b[0m\u001b[0;34m,\u001b[0m \u001b[0;36m2\u001b[0m\u001b[0;34m,\u001b[0m \u001b[0;36m3\u001b[0m\u001b[0;34m]\u001b[0m\u001b[0;34m]\u001b[0m \u001b[0;34m=\u001b[0m \u001b[0;34m\"list\"\u001b[0m  \u001b[0;31m# This will raise a TypeError because lists are mutable.\u001b[0m\u001b[0;34m\u001b[0m\u001b[0;34m\u001b[0m\u001b[0m\n\u001b[0m",
            "\u001b[0;31mTypeError\u001b[0m: unhashable type: 'list'"
          ]
        }
      ]
    },
    {
      "cell_type": "markdown",
      "source": [
        "##Examples of Immutable and Mutable Types as Dictionary Keys:\n",
        "\n",
        "##Valid(Immutable) Keys:\n",
        "##String:"
      ],
      "metadata": {
        "id": "zvAjH-UZUHMl"
      }
    },
    {
      "cell_type": "code",
      "source": [
        "my_dict = {\"name\": \"kishore\", \"age\": 25}\n",
        "print(my_dict)"
      ],
      "metadata": {
        "colab": {
          "base_uri": "https://localhost:8080/"
        },
        "id": "w4ldhmxWUF0d",
        "outputId": "225d1a29-60ce-43d5-e683-d81f42d7dd38"
      },
      "execution_count": 23,
      "outputs": [
        {
          "output_type": "stream",
          "name": "stdout",
          "text": [
            "{'name': 'kishore', 'age': 25}\n"
          ]
        }
      ]
    },
    {
      "cell_type": "markdown",
      "source": [
        "##Numbers:"
      ],
      "metadata": {
        "id": "eZJI26kfUjMc"
      }
    },
    {
      "cell_type": "code",
      "source": [
        "my_dict = {10: \"ten\", 20: \"twenty\"}\n",
        "print(my_dict)"
      ],
      "metadata": {
        "colab": {
          "base_uri": "https://localhost:8080/"
        },
        "id": "GubnishyUdsr",
        "outputId": "980cd7d6-8e44-472c-8972-d14397090fde"
      },
      "execution_count": 24,
      "outputs": [
        {
          "output_type": "stream",
          "name": "stdout",
          "text": [
            "{10: 'ten', 20: 'twenty'}\n"
          ]
        }
      ]
    },
    {
      "cell_type": "markdown",
      "source": [
        "##Tuples:"
      ],
      "metadata": {
        "id": "u2iH6es3U6pR"
      }
    },
    {
      "cell_type": "code",
      "source": [
        "my_dict = {(1, 2), \"set\"}\n",
        "print(my_dict)"
      ],
      "metadata": {
        "colab": {
          "base_uri": "https://localhost:8080/"
        },
        "id": "3NOEEkYIU4Mu",
        "outputId": "8dda341c-4430-4c17-b5d4-95ed10ae9394"
      },
      "execution_count": 25,
      "outputs": [
        {
          "output_type": "stream",
          "name": "stdout",
          "text": [
            "{(1, 2), 'set'}\n"
          ]
        }
      ]
    },
    {
      "cell_type": "markdown",
      "source": [
        "##Invalid (Mutable) Keys:\n",
        "##List:"
      ],
      "metadata": {
        "id": "8C5sOSFuVGU7"
      }
    },
    {
      "cell_type": "code",
      "source": [
        "#This will raise a TypeError:\n",
        "my_dict = {[1, 2], \"list\"}"
      ],
      "metadata": {
        "colab": {
          "base_uri": "https://localhost:8080/",
          "height": 158
        },
        "id": "ioPBY1loVBd2",
        "outputId": "053f1529-1cad-480b-dda0-12b219192917"
      },
      "execution_count": 26,
      "outputs": [
        {
          "output_type": "error",
          "ename": "TypeError",
          "evalue": "unhashable type: 'list'",
          "traceback": [
            "\u001b[0;31m---------------------------------------------------------------------------\u001b[0m",
            "\u001b[0;31mTypeError\u001b[0m                                 Traceback (most recent call last)",
            "\u001b[0;32m<ipython-input-26-8eac1ae8fe81>\u001b[0m in \u001b[0;36m<cell line: 2>\u001b[0;34m()\u001b[0m\n\u001b[1;32m      1\u001b[0m \u001b[0;31m#This will raise a TypeError:\u001b[0m\u001b[0;34m\u001b[0m\u001b[0;34m\u001b[0m\u001b[0m\n\u001b[0;32m----> 2\u001b[0;31m \u001b[0mmy_dict\u001b[0m \u001b[0;34m=\u001b[0m \u001b[0;34m{\u001b[0m\u001b[0;34m[\u001b[0m\u001b[0;36m1\u001b[0m\u001b[0;34m,\u001b[0m \u001b[0;36m2\u001b[0m\u001b[0;34m]\u001b[0m\u001b[0;34m,\u001b[0m \u001b[0;34m\"list\"\u001b[0m\u001b[0;34m}\u001b[0m\u001b[0;34m\u001b[0m\u001b[0;34m\u001b[0m\u001b[0m\n\u001b[0m",
            "\u001b[0;31mTypeError\u001b[0m: unhashable type: 'list'"
          ]
        }
      ]
    },
    {
      "cell_type": "markdown",
      "source": [
        "##Dictionaries:"
      ],
      "metadata": {
        "id": "MYvcnHamVY43"
      }
    },
    {
      "cell_type": "code",
      "source": [
        "#This will raise a TypeError:\n",
        "key_dict = {{1, 2}: \"set\"}\n",
        "my_dict = {\"dict\": key_dict}"
      ],
      "metadata": {
        "colab": {
          "base_uri": "https://localhost:8080/",
          "height": 176
        },
        "id": "2Pq6UL03VWj1",
        "outputId": "2dc5b711-daf7-4aaf-9913-3725aa4667db"
      },
      "execution_count": 27,
      "outputs": [
        {
          "output_type": "error",
          "ename": "TypeError",
          "evalue": "unhashable type: 'set'",
          "traceback": [
            "\u001b[0;31m---------------------------------------------------------------------------\u001b[0m",
            "\u001b[0;31mTypeError\u001b[0m                                 Traceback (most recent call last)",
            "\u001b[0;32m<ipython-input-27-456d8b737157>\u001b[0m in \u001b[0;36m<cell line: 2>\u001b[0;34m()\u001b[0m\n\u001b[1;32m      1\u001b[0m \u001b[0;31m#This will raise a TypeError:\u001b[0m\u001b[0;34m\u001b[0m\u001b[0;34m\u001b[0m\u001b[0m\n\u001b[0;32m----> 2\u001b[0;31m \u001b[0mkey_dict\u001b[0m \u001b[0;34m=\u001b[0m \u001b[0;34m{\u001b[0m\u001b[0;34m{\u001b[0m\u001b[0;36m1\u001b[0m\u001b[0;34m,\u001b[0m \u001b[0;36m2\u001b[0m\u001b[0;34m}\u001b[0m\u001b[0;34m:\u001b[0m \u001b[0;34m\"set\"\u001b[0m\u001b[0;34m}\u001b[0m\u001b[0;34m\u001b[0m\u001b[0;34m\u001b[0m\u001b[0m\n\u001b[0m\u001b[1;32m      3\u001b[0m \u001b[0mmy_dict\u001b[0m \u001b[0;34m=\u001b[0m \u001b[0;34m{\u001b[0m\u001b[0;34m\"dict\"\u001b[0m\u001b[0;34m:\u001b[0m \u001b[0mkey_dict\u001b[0m\u001b[0;34m}\u001b[0m\u001b[0;34m\u001b[0m\u001b[0;34m\u001b[0m\u001b[0m\n",
            "\u001b[0;31mTypeError\u001b[0m: unhashable type: 'set'"
          ]
        }
      ]
    },
    {
      "cell_type": "markdown",
      "source": [
        "##Mutable Tuples:"
      ],
      "metadata": {
        "id": "mC7vOttNVr76"
      }
    },
    {
      "cell_type": "code",
      "source": [
        "#This will raise a TypeError\n",
        "my_dict = {(1, [2, 3]): \"tuple\"}"
      ],
      "metadata": {
        "colab": {
          "base_uri": "https://localhost:8080/",
          "height": 158
        },
        "id": "bTGpgTUJVoiJ",
        "outputId": "55c613e3-0ce3-4161-aab9-b733a96ae9ff"
      },
      "execution_count": 28,
      "outputs": [
        {
          "output_type": "error",
          "ename": "TypeError",
          "evalue": "unhashable type: 'list'",
          "traceback": [
            "\u001b[0;31m---------------------------------------------------------------------------\u001b[0m",
            "\u001b[0;31mTypeError\u001b[0m                                 Traceback (most recent call last)",
            "\u001b[0;32m<ipython-input-28-00f5e0386211>\u001b[0m in \u001b[0;36m<cell line: 2>\u001b[0;34m()\u001b[0m\n\u001b[1;32m      1\u001b[0m \u001b[0;31m#This will raise a TypeError\u001b[0m\u001b[0;34m\u001b[0m\u001b[0;34m\u001b[0m\u001b[0m\n\u001b[0;32m----> 2\u001b[0;31m \u001b[0mmy_dict\u001b[0m \u001b[0;34m=\u001b[0m \u001b[0;34m{\u001b[0m\u001b[0;34m(\u001b[0m\u001b[0;36m1\u001b[0m\u001b[0;34m,\u001b[0m \u001b[0;34m[\u001b[0m\u001b[0;36m2\u001b[0m\u001b[0;34m,\u001b[0m \u001b[0;36m3\u001b[0m\u001b[0;34m]\u001b[0m\u001b[0;34m)\u001b[0m\u001b[0;34m:\u001b[0m \u001b[0;34m\"tuple\"\u001b[0m\u001b[0;34m}\u001b[0m\u001b[0;34m\u001b[0m\u001b[0;34m\u001b[0m\u001b[0m\n\u001b[0m",
            "\u001b[0;31mTypeError\u001b[0m: unhashable type: 'list'"
          ]
        }
      ]
    },
    {
      "cell_type": "markdown",
      "source": [
        "##* If a Tuple contains a mutable elements, it becomes ineligible as a dictionary key.\n",
        "\n",
        "##The requirement for dictionary keys to be immutable in Python ensures that their hash values remain constant, which is essential for the reliable and efficient operation of the dictionary. This immutability guarantees that keys can be looked up quickly and that the dictionary remains consistent even as it evolves during program execution."
      ],
      "metadata": {
        "id": "sg4fJHIOV6vQ"
      }
    },
    {
      "cell_type": "code",
      "source": [],
      "metadata": {
        "id": "1QuLRzXJV5IO"
      },
      "execution_count": null,
      "outputs": []
    }
  ]
}